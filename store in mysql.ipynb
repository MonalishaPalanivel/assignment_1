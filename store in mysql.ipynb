{
 "cells": [
  {
   "cell_type": "code",
   "execution_count": 3,
   "id": "e31e0c5e-a7f4-48f0-b08a-57c0099e6cfe",
   "metadata": {},
   "outputs": [
    {
     "name": "stdout",
     "output_type": "stream",
     "text": [
      "                                       Title   Genre  Rating Votes Duration\n",
      "0                            1. Gladiator II  action     6.5  258K   2h 28m\n",
      "1                            2. William Tell  action     5.7  3.5K   2h 14m\n",
      "2                          3. Dune: Part Two  action     8.5  647K   2h 46m\n",
      "3                                4. Twisters  action     6.5  177K    2h 2m\n",
      "4                       5. Kraven the Hunter  action     5.5   65K    2h 7m\n",
      "..                                       ...     ...     ...   ...      ...\n",
      "245                          46. Killer Heat   crime     5.6   14K   1h 35m\n",
      "246                             47. Boneyard   crime     4.1  5.3K   1h 36m\n",
      "247                       48. Beating Hearts   crime     7.0  6.1K   2h 46m\n",
      "248                            49. Sector 36   crime     7.1   26K    2h 3m\n",
      "249  50. Twilight of the Warriors: Walled In   crime     6.9   11K    2h 6m\n",
      "\n",
      "[250 rows x 5 columns]\n"
     ]
    }
   ],
   "source": [
    "import pandas as pd\n",
    "csv_files =[\n",
    "    \"imdb_action_movies_2024_loadmore.csv\",\n",
    "    \"imdb_animation_movies_2024_loadmore.csv\",\n",
    "    \"imdb_horror_movies_2024_loadmore.csv\",\n",
    "    \"imdb_fantasy_movies_2024_loadmore.csv\",\n",
    "    \"imdb_crime_movies_2024_loadmore.csv\",\n",
    "]\n",
    "df_list = [pd.read_csv(file) for file in csv_files]\n",
    "combined_df = pd.concat(df_list, ignore_index=True)\n",
    "print(combined_df)"
   ]
  },
  {
   "cell_type": "code",
   "execution_count": 3,
   "id": "75f336cb-9407-4e9a-9591-af41086316a2",
   "metadata": {},
   "outputs": [
    {
     "data": {
      "text/html": [
       "<div>\n",
       "<style scoped>\n",
       "    .dataframe tbody tr th:only-of-type {\n",
       "        vertical-align: middle;\n",
       "    }\n",
       "\n",
       "    .dataframe tbody tr th {\n",
       "        vertical-align: top;\n",
       "    }\n",
       "\n",
       "    .dataframe thead th {\n",
       "        text-align: right;\n",
       "    }\n",
       "</style>\n",
       "<table border=\"1\" class=\"dataframe\">\n",
       "  <thead>\n",
       "    <tr style=\"text-align: right;\">\n",
       "      <th></th>\n",
       "      <th>Title</th>\n",
       "      <th>Genre</th>\n",
       "      <th>Rating</th>\n",
       "      <th>Votes</th>\n",
       "      <th>Duration</th>\n",
       "    </tr>\n",
       "  </thead>\n",
       "  <tbody>\n",
       "    <tr>\n",
       "      <th>0</th>\n",
       "      <td>1. Gladiator II</td>\n",
       "      <td>action</td>\n",
       "      <td>6.5</td>\n",
       "      <td>258K</td>\n",
       "      <td>2h 28m</td>\n",
       "    </tr>\n",
       "    <tr>\n",
       "      <th>1</th>\n",
       "      <td>2. William Tell</td>\n",
       "      <td>action</td>\n",
       "      <td>5.7</td>\n",
       "      <td>3.5K</td>\n",
       "      <td>2h 14m</td>\n",
       "    </tr>\n",
       "    <tr>\n",
       "      <th>2</th>\n",
       "      <td>3. Dune: Part Two</td>\n",
       "      <td>action</td>\n",
       "      <td>8.5</td>\n",
       "      <td>647K</td>\n",
       "      <td>2h 46m</td>\n",
       "    </tr>\n",
       "    <tr>\n",
       "      <th>3</th>\n",
       "      <td>4. Twisters</td>\n",
       "      <td>action</td>\n",
       "      <td>6.5</td>\n",
       "      <td>177K</td>\n",
       "      <td>2h 2m</td>\n",
       "    </tr>\n",
       "    <tr>\n",
       "      <th>4</th>\n",
       "      <td>5. Kraven the Hunter</td>\n",
       "      <td>action</td>\n",
       "      <td>5.5</td>\n",
       "      <td>65K</td>\n",
       "      <td>2h 7m</td>\n",
       "    </tr>\n",
       "    <tr>\n",
       "      <th>...</th>\n",
       "      <td>...</td>\n",
       "      <td>...</td>\n",
       "      <td>...</td>\n",
       "      <td>...</td>\n",
       "      <td>...</td>\n",
       "    </tr>\n",
       "    <tr>\n",
       "      <th>245</th>\n",
       "      <td>46. Killer Heat</td>\n",
       "      <td>crime</td>\n",
       "      <td>5.6</td>\n",
       "      <td>14K</td>\n",
       "      <td>1h 35m</td>\n",
       "    </tr>\n",
       "    <tr>\n",
       "      <th>246</th>\n",
       "      <td>47. Boneyard</td>\n",
       "      <td>crime</td>\n",
       "      <td>4.1</td>\n",
       "      <td>5.3K</td>\n",
       "      <td>1h 36m</td>\n",
       "    </tr>\n",
       "    <tr>\n",
       "      <th>247</th>\n",
       "      <td>48. Beating Hearts</td>\n",
       "      <td>crime</td>\n",
       "      <td>7.0</td>\n",
       "      <td>6.1K</td>\n",
       "      <td>2h 46m</td>\n",
       "    </tr>\n",
       "    <tr>\n",
       "      <th>248</th>\n",
       "      <td>49. Sector 36</td>\n",
       "      <td>crime</td>\n",
       "      <td>7.1</td>\n",
       "      <td>26K</td>\n",
       "      <td>2h 3m</td>\n",
       "    </tr>\n",
       "    <tr>\n",
       "      <th>249</th>\n",
       "      <td>50. Twilight of the Warriors: Walled In</td>\n",
       "      <td>crime</td>\n",
       "      <td>6.9</td>\n",
       "      <td>11K</td>\n",
       "      <td>2h 6m</td>\n",
       "    </tr>\n",
       "  </tbody>\n",
       "</table>\n",
       "<p>250 rows × 5 columns</p>\n",
       "</div>"
      ],
      "text/plain": [
       "                                       Title   Genre  Rating Votes Duration\n",
       "0                            1. Gladiator II  action     6.5  258K   2h 28m\n",
       "1                            2. William Tell  action     5.7  3.5K   2h 14m\n",
       "2                          3. Dune: Part Two  action     8.5  647K   2h 46m\n",
       "3                                4. Twisters  action     6.5  177K    2h 2m\n",
       "4                       5. Kraven the Hunter  action     5.5   65K    2h 7m\n",
       "..                                       ...     ...     ...   ...      ...\n",
       "245                          46. Killer Heat   crime     5.6   14K   1h 35m\n",
       "246                             47. Boneyard   crime     4.1  5.3K   1h 36m\n",
       "247                       48. Beating Hearts   crime     7.0  6.1K   2h 46m\n",
       "248                            49. Sector 36   crime     7.1   26K    2h 3m\n",
       "249  50. Twilight of the Warriors: Walled In   crime     6.9   11K    2h 6m\n",
       "\n",
       "[250 rows x 5 columns]"
      ]
     },
     "execution_count": 3,
     "metadata": {},
     "output_type": "execute_result"
    }
   ],
   "source": [
    "combined_df"
   ]
  },
  {
   "cell_type": "code",
   "execution_count": 4,
   "id": "46484169-997a-4382-a8ba-b9ee5c6fde56",
   "metadata": {},
   "outputs": [
    {
     "name": "stdout",
     "output_type": "stream",
     "text": [
      "Requirement already satisfied: sqlalchemy in c:\\users\\admin\\anaconda3\\lib\\site-packages (2.0.41)\n",
      "Requirement already satisfied: pymysql in c:\\users\\admin\\anaconda3\\lib\\site-packages (1.1.1)\n",
      "Requirement already satisfied: greenlet>=1 in c:\\users\\admin\\anaconda3\\lib\\site-packages (from sqlalchemy) (3.0.1)\n",
      "Requirement already satisfied: typing-extensions>=4.6.0 in c:\\users\\admin\\anaconda3\\lib\\site-packages (from sqlalchemy) (4.13.2)\n"
     ]
    }
   ],
   "source": [
    "!pip install sqlalchemy pymysql"
   ]
  },
  {
   "cell_type": "code",
   "execution_count": 5,
   "id": "bb0c7641-965e-45b6-8134-dca07950ecb3",
   "metadata": {},
   "outputs": [
    {
     "name": "stdout",
     "output_type": "stream",
     "text": [
      "Requirement already satisfied: pymysql in c:\\users\\admin\\anaconda3\\lib\\site-packages (1.1.1)\n"
     ]
    }
   ],
   "source": [
    "!pip install pymysql"
   ]
  },
  {
   "cell_type": "code",
   "execution_count": 6,
   "id": "b93a1041-c901-490f-8d10-237806aea539",
   "metadata": {},
   "outputs": [
    {
     "name": "stdout",
     "output_type": "stream",
     "text": [
      "Requirement already satisfied: sqlalchemy in c:\\users\\admin\\anaconda3\\lib\\site-packages (2.0.41)\n",
      "Requirement already satisfied: greenlet>=1 in c:\\users\\admin\\anaconda3\\lib\\site-packages (from sqlalchemy) (3.0.1)\n",
      "Requirement already satisfied: typing-extensions>=4.6.0 in c:\\users\\admin\\anaconda3\\lib\\site-packages (from sqlalchemy) (4.13.2)\n"
     ]
    }
   ],
   "source": [
    "!pip install --upgrade sqlalchemy"
   ]
  },
  {
   "cell_type": "code",
   "execution_count": 12,
   "id": "a09d44b2-eba0-4374-ab8c-55d8aa7f994f",
   "metadata": {},
   "outputs": [
    {
     "name": "stdout",
     "output_type": "stream",
     "text": [
      "Connection created!\n",
      "Data uploaded to MySQL!\n"
     ]
    }
   ],
   "source": [
    "\n",
    "\n",
    "from sqlalchemy import create_engine\n",
    "\n",
    "# Replace with your details:\n",
    "username = 'root'\n",
    "password = 'root'\n",
    "hostname = 'localhost'\n",
    "database = 'DATA_2024'\n",
    "\n",
    "engine = create_engine(f\"mysql+pymysql://{username}:{password}@{hostname}/{database}\")\n",
    "print(\"Connection created!\")\n",
    "\n",
    "import pandas as pd\n",
    "\n",
    "csv_files =[\n",
    "    \"imdb_action_movies_2024_loadmore.csv\",\n",
    "    \"imdb_animation_movies_2024_loadmore.csv\",\n",
    "    \"imdb_horror_movies_2024_loadmore.csv\",\n",
    "    \"imdb_fantasy_movies_2024_loadmore.csv\",\n",
    "    \"imdb_crime_movies_2024_loadmore.csv\",\n",
    "]\n",
    "df_list = [pd.read_csv(file) for file in csv_files]\n",
    "combined_df = pd.concat(df_list, ignore_index=True)\n",
    "combined_df.to_sql(\n",
    "    name='imdb_movies',\n",
    "    con=engine,\n",
    "    if_exists='replace',  # or 'append'\n",
    "    index=False\n",
    ")\n",
    "print(\"Data uploaded to MySQL!\")"
   ]
  },
  {
   "cell_type": "code",
   "execution_count": null,
   "id": "449c7cb1-411d-4957-9f09-fc3da7ef8510",
   "metadata": {},
   "outputs": [],
   "source": []
  }
 ],
 "metadata": {
  "kernelspec": {
   "display_name": "Python [conda env:base] *",
   "language": "python",
   "name": "conda-base-py"
  },
  "language_info": {
   "codemirror_mode": {
    "name": "ipython",
    "version": 3
   },
   "file_extension": ".py",
   "mimetype": "text/x-python",
   "name": "python",
   "nbconvert_exporter": "python",
   "pygments_lexer": "ipython3",
   "version": "3.12.7"
  }
 },
 "nbformat": 4,
 "nbformat_minor": 5
}
